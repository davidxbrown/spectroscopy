{
 "cells": [
  {
   "cell_type": "code",
   "execution_count": 3,
   "metadata": {},
   "outputs": [
    {
     "data": {
      "text/plain": [
       "'\\n\\nf\\n'"
      ]
     },
     "execution_count": 3,
     "metadata": {},
     "output_type": "execute_result"
    }
   ],
   "source": [
    "'''\n",
    "The goal of this doc is to calculate the LED power need for SWIR signal detection\n",
    "\n",
    "'''"
   ]
  },
  {
   "cell_type": "code",
   "execution_count": 5,
   "metadata": {},
   "outputs": [],
   "source": [
    "import matplotlib.pyplot as plt\n",
    "import numpy as np"
   ]
  },
  {
   "cell_type": "code",
   "execution_count": 55,
   "metadata": {},
   "outputs": [
    {
     "name": "stdout",
     "output_type": "stream",
     "text": [
      "testing bandwidth\n",
      " 22.75 MHz\n",
      "\n",
      "testing power_snr_1\n",
      "\n",
      "testing voltage_out\n"
     ]
    },
    {
     "data": {
      "text/plain": [
       "Text(0, 0.5, 'Voltage in mV')"
      ]
     },
     "execution_count": 55,
     "metadata": {},
     "output_type": "execute_result"
    },
    {
     "data": {
      "image/png": "[encoded data removed]",
      "text/plain": [
       "<Figure size 432x288 with 1 Axes>"
      ]
     },
     "metadata": {
      "needs_background": "light"
     },
     "output_type": "display_data"
    },
    {
     "data": {
      "image/png": "[encoded data removed]",
      "text/plain": [
       "<Figure size 432x288 with 1 Axes>"
      ]
     },
     "metadata": {
      "needs_background": "light"
     },
     "output_type": "display_data"
    }
   ],
   "source": [
    "def voltage_out(power, r_load = 50, responsivity = 1.3):\n",
    "    '''\n",
    "    Calculates the output voltage for a given incident power.\n",
    "    \n",
    "    inputs:\n",
    "        power: optical power into LED (watts)\n",
    "        r_load: load resistance (ohms)\n",
    "        responsivity: Current_out per power_in (A/W)\n",
    "    \n",
    "    outputs:\n",
    "        voltage_out: voltage reading (V)\n",
    "    '''\n",
    "    voltage_out = power * r_load * responsivity\n",
    "    return voltage_out\n",
    "    \n",
    "def bandwidth(r_load = 50, capacitance = 140):\n",
    "    '''\n",
    "    Calculates the signal bandwidth \n",
    "    \n",
    "    inputs:\n",
    "        r_load: load resistance (ohms)\n",
    "        capacitance: diode capacitance (pF)\n",
    "        \n",
    "    outputs: \n",
    "        bandwidth: in hertz\n",
    "    '''\n",
    "    pi = 3.14\n",
    "    bandwidth = 1 / (2*pi*r_load*capacitance *1e-12)\n",
    "    return bandwidth\n",
    "\n",
    "def power_snr_1(average_time, nep=5e-13):\n",
    "    '''\n",
    "    Calculates the power at a signal to noise ratio of 1 \n",
    "    \n",
    "    inputs:\n",
    "        average_time: averaging time\n",
    "        nep: noise equivalent power in W/sqrt(Hz)\n",
    "        \n",
    "    outputs: \n",
    "        power: power at a signal to noise ratio of 1\n",
    "    '''\n",
    "    \n",
    "    bandwidth = 1 /(2*average_time) # nyquist criteria\n",
    "    power_snr_1 = nep*np.sqrt(bandwidth)\n",
    "    return power_snr_1\n",
    "\n",
    "\n",
    "# test bandwidth\n",
    "print(\"testing bandwidth\")\n",
    "print('{:6.2f} MHz\\n'.format(bandwidth()/1e6))\n",
    "\n",
    "    \n",
    "    \n",
    "# test power_snr_1\n",
    "print(\"testing power_snr_1\")\n",
    "nep = 5e-13\n",
    "average_time = np.logspace(-6, 0, 10)\n",
    "power_snr = power_snr_1(average_time, nep)\n",
    "f1, ax1 = plt.subplots()\n",
    "ax1.loglog(average_time, power_snr*1e9)\n",
    "ax1.set_title('Power_SNR=1 (mW) vs averaging time')\n",
    "\n",
    "\n",
    "    \n",
    "# test voltage_out\n",
    "print(\"\\ntesting voltage_out\")\n",
    "f, ax = plt.subplots()\n",
    "power = np.linspace(1e-4, 1e-3, 10)\n",
    "voltage = voltage_out(power)\n",
    "ax.plot(power*1e3, voltage*1e3)\n",
    "ax.set_title('Voltage versus Power')\n",
    "ax.set_xlabel('Optical Power in mW')\n",
    "ax.set_ylabel('Voltage in mV')\n",
    "\n",
    "\n",
    "\n",
    "    \n"
   ]
  },
  {
   "cell_type": "code",
   "execution_count": 57,
   "metadata": {},
   "outputs": [
    {
     "name": "stdout",
     "output_type": "stream",
     "text": [
      "Power at diode is 0.08 mW\n",
      "Current at diode is 0.06 mA\n",
      "Dark Current is 1.63% of current\n",
      "Signal to noise ration is 71176254341.72\n"
     ]
    }
   ],
   "source": [
    "detector_area = 1 # cm2\n",
    "distance = 1 #cm to the detector\n",
    "reflectivity = 0.5\n",
    "measured_area = 1 #cm2\n",
    "dark_current = .001 #mA\n",
    "\n",
    "led_power = 1 #mW\n",
    "average_time = 0.1\n",
    "\n",
    "incident_intensity = led_power / measured_area # ideal illumination. all LED's on leave\n",
    "reflected_intensity = reflectivity*incident_intensity\n",
    "detector_power = reflected_intensity * detector_area* detector_area/(2*np.pi*distance**2)\n",
    "\n",
    "current = detector_power/1.3\n",
    "dark_current_percentage = dark_current/current*100\n",
    "power_snr = power_snr_1(average_time)\n",
    "\n",
    "\n",
    "\n",
    "print('Power at diode is {:3.2f} mW'.format(detector_power))\n",
    "print('Current at diode is {:3.2f} mA'.format(current))\n",
    "print('Dark Current is {:3.2f}% of current'.format(dark_current_percentage))\n",
    "print('Signal to noise ratio is {:3.2f}'.format(detector_power/power_snr))"
   ]
  },
  {
   "cell_type": "code",
   "execution_count": 47,
   "metadata": {},
   "outputs": [
    {
     "data": {
      "text/plain": [
       "6.283185307179586"
      ]
     },
     "execution_count": 47,
     "metadata": {},
     "output_type": "execute_result"
    }
   ],
   "source": []
  },
  {
   "cell_type": "code",
   "execution_count": null,
   "metadata": {},
   "outputs": [],
   "source": []
  }
 ],
 "metadata": {
  "kernelspec": {
   "display_name": "Python 3",
   "language": "python",
   "name": "python3"
  },
  "language_info": {
   "codemirror_mode": {
    "name": "ipython",
    "version": 3
   },
   "file_extension": ".py",
   "mimetype": "text/x-python",
   "name": "python",
   "nbconvert_exporter": "python",
   "pygments_lexer": "ipython3",
   "version": "3.7.1"
  }
 },
 "nbformat": 4,
 "nbformat_minor": 2
}
